{
 "cells": [
  {
   "cell_type": "code",
   "execution_count": null,
   "metadata": {},
   "outputs": [],
   "source": []
  },
  {
   "cell_type": "code",
   "execution_count": 8,
   "metadata": {
    "ExecuteTime": {
     "end_time": "2020-09-30T08:09:55.521037Z",
     "start_time": "2020-09-30T08:09:55.516393Z"
    }
   },
   "outputs": [],
   "source": [
    "file = '001.pd'"
   ]
  },
  {
   "cell_type": "code",
   "execution_count": 36,
   "metadata": {
    "ExecuteTime": {
     "end_time": "2020-09-30T08:19:28.772673Z",
     "start_time": "2020-09-30T08:19:28.768845Z"
    }
   },
   "outputs": [],
   "source": [
    "tags = ['canvas','obj','connect']"
   ]
  },
  {
   "cell_type": "code",
   "execution_count": 32,
   "metadata": {
    "ExecuteTime": {
     "end_time": "2020-09-30T08:16:24.406507Z",
     "start_time": "2020-09-30T08:16:24.401830Z"
    }
   },
   "outputs": [],
   "source": [
    "with open(file, 'r') as f:\n",
    "    data = f.read()"
   ]
  },
  {
   "cell_type": "code",
   "execution_count": 23,
   "metadata": {
    "ExecuteTime": {
     "end_time": "2020-09-30T08:12:31.176280Z",
     "start_time": "2020-09-30T08:12:31.170852Z"
    }
   },
   "outputs": [
    {
     "data": {
      "text/plain": [
       "'#N canvas 1837 346 591 300 10;\\n#X obj 137 73 osc~ 440;\\n#X obj 137 121 *~ 0.5;\\n#X obj 137 178 dac~;\\n#X msg 137 26 proviamo con la supercazzola prematurata con scappellamento\\na sinistra;\\n#X text 267 113 tastooma;\\n#X connect 0 0 1 0;\\n#X connect 1 0 2 0;\\n#X connect 1 0 2 1;\\n#X connect 3 0 0 0;\\n'"
      ]
     },
     "execution_count": 23,
     "metadata": {},
     "output_type": "execute_result"
    }
   ],
   "source": [
    "data"
   ]
  },
  {
   "cell_type": "code",
   "execution_count": 33,
   "metadata": {
    "ExecuteTime": {
     "end_time": "2020-09-30T08:16:25.455936Z",
     "start_time": "2020-09-30T08:16:25.449864Z"
    }
   },
   "outputs": [],
   "source": [
    "data = data.replace(\"\\n\",\" \")\n",
    "data = data.replace(\";\",\"\")\n",
    "data = [x.strip(None)[2:] for x in data.split(\"#\") if x != '']"
   ]
  },
  {
   "cell_type": "code",
   "execution_count": 46,
   "metadata": {
    "ExecuteTime": {
     "end_time": "2020-09-30T15:14:54.980047Z",
     "start_time": "2020-09-30T15:14:54.974360Z"
    }
   },
   "outputs": [
    {
     "data": {
      "text/plain": [
       "['canvas 1837 346 591 300 10',\n",
       " 'obj 137 73 osc~ 440',\n",
       " 'obj 137 121 *~ 0.5',\n",
       " 'obj 137 178 dac~',\n",
       " 'msg 137 26 proviamo con la supercazzola prematurata con scappellamento a sinistra',\n",
       " 'text 267 113 tastooma',\n",
       " 'connect 0 0 1 0',\n",
       " 'connect 1 0 2 0',\n",
       " 'connect 1 0 2 1',\n",
       " 'connect 3 0 0 0']"
      ]
     },
     "execution_count": 46,
     "metadata": {},
     "output_type": "execute_result"
    }
   ],
   "source": [
    "data"
   ]
  },
  {
   "cell_type": "code",
   "execution_count": 59,
   "metadata": {
    "ExecuteTime": {
     "end_time": "2020-09-30T15:35:32.992127Z",
     "start_time": "2020-09-30T15:35:32.982173Z"
    }
   },
   "outputs": [],
   "source": [
    "structure = {}\n",
    "obj = []\n",
    "connect = []\n",
    "\n",
    "for tag in tags:\n",
    "    for s in data:\n",
    "        if s.find(tag,0,8) != -1:\n",
    "            value = \" \".join(s.split(\" \")[1:])\n",
    "            if tag == 'obj':\n",
    "                obj.append(value)\n",
    "            elif tag == 'connect':\n",
    "                connect.append(value)\n",
    "            else:\n",
    "                structure[tag] = value\n",
    "    structure['obj'] = [x+' '+str(n) for n,x in enumerate(obj)]\n",
    "    structure['connect'] = connect"
   ]
  },
  {
   "cell_type": "code",
   "execution_count": 60,
   "metadata": {
    "ExecuteTime": {
     "end_time": "2020-09-30T15:35:34.138061Z",
     "start_time": "2020-09-30T15:35:34.132020Z"
    }
   },
   "outputs": [
    {
     "data": {
      "text/plain": [
       "{'canvas': '1837 346 591 300 10',\n",
       " 'obj': ['137 73 osc~ 440 0', '137 121 *~ 0.5 1', '137 178 dac~ 2'],\n",
       " 'connect': ['0 0 1 0', '1 0 2 0', '1 0 2 1', '3 0 0 0']}"
      ]
     },
     "execution_count": 60,
     "metadata": {},
     "output_type": "execute_result"
    }
   ],
   "source": [
    "structure"
   ]
  },
  {
   "cell_type": "code",
   "execution_count": null,
   "metadata": {},
   "outputs": [],
   "source": []
  },
  {
   "cell_type": "code",
   "execution_count": null,
   "metadata": {},
   "outputs": [],
   "source": []
  },
  {
   "cell_type": "code",
   "execution_count": 74,
   "metadata": {},
   "outputs": [
    {
     "name": "stdout",
     "output_type": "stream",
     "text": [
      "type='CANVAS', value='canvas'\n",
      "type='FLOAT', value='1837'\n",
      "type='FLOAT', value='346'\n",
      "type='FLOAT', value='591'\n",
      "type='FLOAT', value='300'\n",
      "type='FLOAT', value='10'\n",
      "type='END', value=';'\n",
      "type='OBJ', value='obj'\n",
      "type='FLOAT', value='137'\n",
      "type='FLOAT', value='73'\n",
      "type='LITERAL', value='osc~'\n",
      "type='FLOAT', value='440'\n",
      "type='END', value=';'\n",
      "type='OBJ', value='obj'\n",
      "type='FLOAT', value='137'\n",
      "type='FLOAT', value='121'\n",
      "type='LITERAL', value='*~'\n",
      "type='FLOAT', value='0.5'\n",
      "type='END', value=';'\n",
      "type='OBJ', value='obj'\n",
      "type='FLOAT', value='137'\n",
      "type='FLOAT', value='178'\n",
      "type='LITERAL', value='dac~'\n",
      "type='END', value=';'\n",
      "type='MSG', value='msg'\n",
      "type='FLOAT', value='137'\n",
      "type='FLOAT', value='26'\n",
      "type='LITERAL', value='proviamo'\n",
      "type='LITERAL', value='con'\n",
      "type='LITERAL', value='la'\n",
      "type='LITERAL', value='supercazzola'\n",
      "type='LITERAL', value='prematurata'\n",
      "type='LITERAL', value='con'\n",
      "type='LITERAL', value='scappellamento'\n",
      "type='LITERAL', value='a'\n",
      "type='LITERAL', value='sinistra'\n",
      "type='END', value=';'\n",
      "type='LITERAL', value='ext'\n",
      "type='FLOAT', value='267'\n",
      "type='FLOAT', value='113'\n",
      "type='LITERAL', value='astooma'\n",
      "type='END', value=';'\n",
      "type='CONNECT', value='connect'\n",
      "type='FLOAT', value='0'\n",
      "type='FLOAT', value='0'\n",
      "type='FLOAT', value='1'\n",
      "type='FLOAT', value='0'\n",
      "type='END', value=';'\n",
      "type='CONNECT', value='connect'\n",
      "type='FLOAT', value='1'\n",
      "type='FLOAT', value='0'\n",
      "type='FLOAT', value='2'\n",
      "type='FLOAT', value='0'\n",
      "type='END', value=';'\n",
      "type='CONNECT', value='connect'\n",
      "type='FLOAT', value='1'\n",
      "type='FLOAT', value='0'\n",
      "type='FLOAT', value='2'\n",
      "type='FLOAT', value='1'\n",
      "type='END', value=';'\n",
      "type='CONNECT', value='connect'\n",
      "type='FLOAT', value='3'\n",
      "type='FLOAT', value='0'\n",
      "type='FLOAT', value='0'\n",
      "type='FLOAT', value='0'\n",
      "type='END', value=';'\n"
     ]
    }
   ],
   "source": [
    "# calclex.py\n",
    "\n",
    "from sly import Lexer\n",
    "\n",
    "class CalcLexer(Lexer):\n",
    "    def __init__(self):\n",
    "        self.obj_counter = 0\n",
    "    \n",
    "    # Set of token names.   This is always required\n",
    "    tokens = { CANVAS, OBJ, TEXT, CONNECT, DECLARE, FLOATATOM, MSG, FLOAT, END, LITERAL }\n",
    "\n",
    "    # String containing ignored characters between tokens\n",
    "    ignore = r' \\t'\n",
    "    ignore_newline = r'\\s*\\n\\s*'\n",
    "    ignore_prefix = r'#[A-Z]'\n",
    "\n",
    "    # Regular expression rules for tokens\n",
    "    #PREFIX = r'#[A-Z]'\n",
    "    CANVAS = r'canvas'\n",
    "    OBJ = r'obj'\n",
    "    TEXT = r'text'\n",
    "    CONNECT = r'connect'\n",
    "    DECLARE = r'declare'\n",
    "    FLOATATOM = r'floatatom'\n",
    "    MSG = r'msg'\n",
    "    #ID      = r'[a-zA-Z_][a-zA-Z0-9_]*'\n",
    "    FLOAT = r'\\d+\\.*\\d*'\n",
    "    #NUMBER  = r'\\d+'\n",
    "    #END  = r';'\n",
    "    LITERAL = r'[a-zA-Z_*~\\(\\)]+'\n",
    "    \n",
    "    @_(r';')\n",
    "    def END(self, t):\n",
    "        self.lineno += len(t.value)\n",
    "        return t\n",
    "\n",
    "if __name__ == '__main__':\n",
    "    data = \"\"\"\n",
    "    #N canvas 1837 346 591 300 10;\n",
    "    #X obj 137 73 osc~ 440;\n",
    "    #X obj 137 121 *~ 0.5;\n",
    "    #X obj 137 178 dac~;\n",
    "    #X msg 137 26 proviamo con la supercazzola prematurata con scappellamento\n",
    "    a sinistra;\n",
    "    #X text 267 113 tastooma;\n",
    "    #X connect 0 0 1 0;\n",
    "    #X connect 1 0 2 0;\n",
    "    #X connect 1 0 2 1;\n",
    "    #X connect 3 0 0 0;\"\"\"\n",
    "    lexer = CalcLexer()\n",
    "    for tok in lexer.tokenize(data):\n",
    "        print('type=%r, value=%r' % (tok.type, tok.value))\n"
   ]
  },
  {
   "cell_type": "code",
   "execution_count": 150,
   "metadata": {},
   "outputs": [
    {
     "name": "stderr",
     "output_type": "stream",
     "text": [
      "WARNING: Token(s) {DECLARE,MSG,TEXT,FLOATATOM,CONNECT} defined, but not used\n",
      "WARNING: There are 5 unused tokens\n"
     ]
    }
   ],
   "source": [
    "from sly import Parser\n",
    "\n",
    "class CalcParser(Parser):\n",
    "    # Get the token list from the lexer (required)\n",
    "    tokens = CalcLexer.tokens\n",
    "\n",
    "    # Grammar rules and actions\n",
    "    @_('CANVAS FLOAT FLOAT FLOAT FLOAT FLOAT END')\n",
    "    def expr(self, p):\n",
    "        return p[0],int(p[1]),int(p[2]),int(p[3]),int(p[4])\n",
    "    \n",
    "    \n",
    "    @_('OBJ FLOAT FLOAT LITERAL expr_args END')\n",
    "    def expr(self, p):\n",
    "        return p\n",
    "    \n",
    "    @_('FLOAT expr_args')\n",
    "    def expr_args(self, p):\n",
    "        return p[0],p.expr_args\n",
    "    \n",
    "    @_('FLOAT')\n",
    "    def expr_args(self, p):\n",
    "        return p.FLOAT\n",
    "    \n"
   ]
  },
  {
   "cell_type": "code",
   "execution_count": 151,
   "metadata": {},
   "outputs": [
    {
     "name": "stdout",
     "output_type": "stream",
     "text": [
      "('expr', 'obj', '137', '73', 'osc~', '19', ';')\n"
     ]
    }
   ],
   "source": [
    "if __name__ == '__main__':\n",
    "    lexer = CalcLexer()\n",
    "    parser = CalcParser()\n",
    "\n",
    "    text = '#X obj 137 73 osc~ 440 12 7 19;'\n",
    "    result = parser.parse(lexer.tokenize(text))\n",
    "    print(result)"
   ]
  },
  {
   "cell_type": "code",
   "execution_count": null,
   "metadata": {},
   "outputs": [],
   "source": []
  },
  {
   "cell_type": "code",
   "execution_count": null,
   "metadata": {},
   "outputs": [],
   "source": []
  },
  {
   "cell_type": "code",
   "execution_count": null,
   "metadata": {},
   "outputs": [],
   "source": []
  },
  {
   "cell_type": "code",
   "execution_count": null,
   "metadata": {},
   "outputs": [],
   "source": []
  }
 ],
 "metadata": {
  "kernelspec": {
   "display_name": "Python 3",
   "language": "python",
   "name": "python3"
  },
  "language_info": {
   "codemirror_mode": {
    "name": "ipython",
    "version": 3
   },
   "file_extension": ".py",
   "mimetype": "text/x-python",
   "name": "python",
   "nbconvert_exporter": "python",
   "pygments_lexer": "ipython3",
   "version": "3.7.6"
  }
 },
 "nbformat": 4,
 "nbformat_minor": 4
}
