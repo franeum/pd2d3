{
 "cells": [
  {
   "cell_type": "code",
   "execution_count": null,
   "metadata": {},
   "outputs": [],
   "source": []
  },
  {
   "cell_type": "code",
   "execution_count": 1,
   "metadata": {
    "ExecuteTime": {
     "end_time": "2020-10-01T09:09:46.728564Z",
     "start_time": "2020-10-01T09:09:46.724777Z"
    }
   },
   "outputs": [],
   "source": [
    "file = '001.pd'"
   ]
  },
  {
   "cell_type": "code",
   "execution_count": 2,
   "metadata": {
    "ExecuteTime": {
     "end_time": "2020-10-01T09:09:47.969774Z",
     "start_time": "2020-10-01T09:09:47.966200Z"
    }
   },
   "outputs": [],
   "source": [
    "tags = ['canvas','obj','connect']"
   ]
  },
  {
   "cell_type": "code",
   "execution_count": 3,
   "metadata": {
    "ExecuteTime": {
     "end_time": "2020-10-01T09:09:49.121515Z",
     "start_time": "2020-10-01T09:09:49.116565Z"
    }
   },
   "outputs": [],
   "source": [
    "with open(file, 'r') as f:\n",
    "    data = f.read()"
   ]
  },
  {
   "cell_type": "code",
   "execution_count": 4,
   "metadata": {
    "ExecuteTime": {
     "end_time": "2020-10-01T09:09:50.240240Z",
     "start_time": "2020-10-01T09:09:50.225074Z"
    }
   },
   "outputs": [
    {
     "data": {
      "text/plain": [
       "'#N canvas 1837 346 591 300 10;\\n#X obj 137 73 osc~ 440;\\n#X obj 137 121 *~ 0.5;\\n#X obj 137 178 dac~;\\n#X msg 137 26 proviamo con la supercazzola prematurata con scappellamento\\na sinistra;\\n#X text 267 113 tastooma;\\n#X connect 0 0 1 0;\\n#X connect 1 0 2 0;\\n#X connect 1 0 2 1;\\n#X connect 3 0 0 0;\\n'"
      ]
     },
     "execution_count": 4,
     "metadata": {},
     "output_type": "execute_result"
    }
   ],
   "source": [
    "data"
   ]
  },
  {
   "cell_type": "code",
   "execution_count": 5,
   "metadata": {
    "ExecuteTime": {
     "end_time": "2020-10-01T09:09:51.954783Z",
     "start_time": "2020-10-01T09:09:51.949151Z"
    }
   },
   "outputs": [],
   "source": [
    "data = data.replace(\"\\n\",\" \")\n",
    "data = data.replace(\";\",\"\")\n",
    "data = [x.strip(None)[2:] for x in data.split(\"#\") if x != '']"
   ]
  },
  {
   "cell_type": "code",
   "execution_count": 6,
   "metadata": {
    "ExecuteTime": {
     "end_time": "2020-10-01T09:09:53.041926Z",
     "start_time": "2020-10-01T09:09:53.036014Z"
    }
   },
   "outputs": [
    {
     "data": {
      "text/plain": [
       "['canvas 1837 346 591 300 10',\n",
       " 'obj 137 73 osc~ 440',\n",
       " 'obj 137 121 *~ 0.5',\n",
       " 'obj 137 178 dac~',\n",
       " 'msg 137 26 proviamo con la supercazzola prematurata con scappellamento a sinistra',\n",
       " 'text 267 113 tastooma',\n",
       " 'connect 0 0 1 0',\n",
       " 'connect 1 0 2 0',\n",
       " 'connect 1 0 2 1',\n",
       " 'connect 3 0 0 0']"
      ]
     },
     "execution_count": 6,
     "metadata": {},
     "output_type": "execute_result"
    }
   ],
   "source": [
    "data"
   ]
  },
  {
   "cell_type": "code",
   "execution_count": 28,
   "metadata": {
    "ExecuteTime": {
     "end_time": "2020-10-01T09:27:37.086770Z",
     "start_time": "2020-10-01T09:27:37.077046Z"
    }
   },
   "outputs": [],
   "source": [
    "structure = {}\n",
    "obj = []\n",
    "connect = []\n",
    "\n",
    "for tag in tags:\n",
    "    for s in data:\n",
    "        if s.find(tag,0,8) != -1:\n",
    "            value = \" \".join(s.split(\" \")[1:])\n",
    "            if tag == 'obj':\n",
    "                obj.append(value)\n",
    "            elif tag == 'connect':\n",
    "                connect.append(value)\n",
    "            else:\n",
    "                structure[tag] = [int(x) for x in value.split(\" \")]\n",
    "    structure['obj'] = [x+' '+str(n) for n,x in enumerate(obj)]\n",
    "    structure['connect'] = connect"
   ]
  },
  {
   "cell_type": "code",
   "execution_count": 29,
   "metadata": {
    "ExecuteTime": {
     "end_time": "2020-10-01T09:27:38.025569Z",
     "start_time": "2020-10-01T09:27:38.019485Z"
    }
   },
   "outputs": [
    {
     "data": {
      "text/plain": [
       "{'canvas': [1837, 346, 591, 300, 10],\n",
       " 'obj': ['137 73 osc~ 440 0', '137 121 *~ 0.5 1', '137 178 dac~ 2'],\n",
       " 'connect': ['0 0 1 0', '1 0 2 0', '1 0 2 1', '3 0 0 0']}"
      ]
     },
     "execution_count": 29,
     "metadata": {},
     "output_type": "execute_result"
    }
   ],
   "source": [
    "structure"
   ]
  },
  {
   "cell_type": "code",
   "execution_count": 30,
   "metadata": {
    "ExecuteTime": {
     "end_time": "2020-10-01T09:27:41.322886Z",
     "start_time": "2020-10-01T09:27:41.314923Z"
    }
   },
   "outputs": [],
   "source": [
    "object_box = []\n",
    "\n",
    "for ob in structure['obj']:\n",
    "    obj = {}\n",
    "    ob = ob.split(\" \")\n",
    "    obj['x'] = int(ob[0])\n",
    "    obj['y'] = int(ob[1])\n",
    "    obj['name'] = ob[2]\n",
    "    obj['ord'] = int(ob[-1])\n",
    "    object_box.append(obj)"
   ]
  },
  {
   "cell_type": "code",
   "execution_count": 31,
   "metadata": {
    "ExecuteTime": {
     "end_time": "2020-10-01T09:27:42.821702Z",
     "start_time": "2020-10-01T09:27:42.817875Z"
    }
   },
   "outputs": [],
   "source": [
    "structure['obj'] = object_box"
   ]
  },
  {
   "cell_type": "code",
   "execution_count": 32,
   "metadata": {
    "ExecuteTime": {
     "end_time": "2020-10-01T09:27:46.792856Z",
     "start_time": "2020-10-01T09:27:46.786313Z"
    }
   },
   "outputs": [],
   "source": [
    "connect_chord = []\n",
    "\n",
    "for co in structure['connect']:\n",
    "    connect = {}\n",
    "    co = [int(x) for x in co.split(\" \")]\n",
    "    connect['from'] = co[:2]\n",
    "    connect['to'] = co[2:]\n",
    "    connect_chord.append(connect)"
   ]
  },
  {
   "cell_type": "code",
   "execution_count": 33,
   "metadata": {
    "ExecuteTime": {
     "end_time": "2020-10-01T09:27:47.647940Z",
     "start_time": "2020-10-01T09:27:47.644056Z"
    }
   },
   "outputs": [],
   "source": [
    "structure['connect'] = connect_chord"
   ]
  },
  {
   "cell_type": "code",
   "execution_count": 34,
   "metadata": {
    "ExecuteTime": {
     "end_time": "2020-10-01T09:27:48.804232Z",
     "start_time": "2020-10-01T09:27:48.797147Z"
    }
   },
   "outputs": [
    {
     "name": "stdout",
     "output_type": "stream",
     "text": [
      "{'canvas': [1837, 346, 591, 300, 10],\n",
      " 'connect': [{'from': [0, 0], 'to': [1, 0]},\n",
      "             {'from': [1, 0], 'to': [2, 0]},\n",
      "             {'from': [1, 0], 'to': [2, 1]},\n",
      "             {'from': [3, 0], 'to': [0, 0]}],\n",
      " 'obj': [{'name': 'osc~', 'ord': 0, 'x': 137, 'y': 73},\n",
      "         {'name': '*~', 'ord': 1, 'x': 137, 'y': 121},\n",
      "         {'name': 'dac~', 'ord': 2, 'x': 137, 'y': 178}]}\n"
     ]
    }
   ],
   "source": [
    "from pprint import pprint\n",
    "pprint(structure)"
   ]
  }
 ],
 "metadata": {
  "kernelspec": {
   "display_name": "Python 3",
   "language": "python",
   "name": "python3"
  },
  "language_info": {
   "codemirror_mode": {
    "name": "ipython",
    "version": 3
   },
   "file_extension": ".py",
   "mimetype": "text/x-python",
   "name": "python",
   "nbconvert_exporter": "python",
   "pygments_lexer": "ipython3",
   "version": "3.7.6"
  }
 },
 "nbformat": 4,
 "nbformat_minor": 4
}
