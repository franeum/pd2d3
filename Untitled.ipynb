{
 "cells": [
  {
   "cell_type": "code",
   "execution_count": null,
   "metadata": {},
   "outputs": [],
   "source": []
  },
  {
   "cell_type": "code",
   "execution_count": 8,
   "metadata": {
    "ExecuteTime": {
     "end_time": "2020-09-30T08:09:55.521037Z",
     "start_time": "2020-09-30T08:09:55.516393Z"
    }
   },
   "outputs": [],
   "source": [
    "file = '001.pd'"
   ]
  },
  {
   "cell_type": "code",
   "execution_count": 36,
   "metadata": {
    "ExecuteTime": {
     "end_time": "2020-09-30T08:19:28.772673Z",
     "start_time": "2020-09-30T08:19:28.768845Z"
    }
   },
   "outputs": [],
   "source": [
    "tags = ['canvas','obj','connect']"
   ]
  },
  {
   "cell_type": "code",
   "execution_count": 32,
   "metadata": {
    "ExecuteTime": {
     "end_time": "2020-09-30T08:16:24.406507Z",
     "start_time": "2020-09-30T08:16:24.401830Z"
    }
   },
   "outputs": [],
   "source": [
    "with open(file, 'r') as f:\n",
    "    data = f.read()"
   ]
  },
  {
   "cell_type": "code",
   "execution_count": 23,
   "metadata": {
    "ExecuteTime": {
     "end_time": "2020-09-30T08:12:31.176280Z",
     "start_time": "2020-09-30T08:12:31.170852Z"
    }
   },
   "outputs": [
    {
     "data": {
      "text/plain": [
       "'#N canvas 1837 346 591 300 10;\\n#X obj 137 73 osc~ 440;\\n#X obj 137 121 *~ 0.5;\\n#X obj 137 178 dac~;\\n#X msg 137 26 proviamo con la supercazzola prematurata con scappellamento\\na sinistra;\\n#X text 267 113 tastooma;\\n#X connect 0 0 1 0;\\n#X connect 1 0 2 0;\\n#X connect 1 0 2 1;\\n#X connect 3 0 0 0;\\n'"
      ]
     },
     "execution_count": 23,
     "metadata": {},
     "output_type": "execute_result"
    }
   ],
   "source": [
    "data"
   ]
  },
  {
   "cell_type": "code",
   "execution_count": 33,
   "metadata": {
    "ExecuteTime": {
     "end_time": "2020-09-30T08:16:25.455936Z",
     "start_time": "2020-09-30T08:16:25.449864Z"
    }
   },
   "outputs": [],
   "source": [
    "data = data.replace(\"\\n\",\" \")\n",
    "data = data.replace(\";\",\"\")\n",
    "data = [x.strip(None)[2:] for x in data.split(\"#\") if x != '']"
   ]
  },
  {
   "cell_type": "code",
   "execution_count": 46,
   "metadata": {
    "ExecuteTime": {
     "end_time": "2020-09-30T15:14:54.980047Z",
     "start_time": "2020-09-30T15:14:54.974360Z"
    }
   },
   "outputs": [
    {
     "data": {
      "text/plain": [
       "['canvas 1837 346 591 300 10',\n",
       " 'obj 137 73 osc~ 440',\n",
       " 'obj 137 121 *~ 0.5',\n",
       " 'obj 137 178 dac~',\n",
       " 'msg 137 26 proviamo con la supercazzola prematurata con scappellamento a sinistra',\n",
       " 'text 267 113 tastooma',\n",
       " 'connect 0 0 1 0',\n",
       " 'connect 1 0 2 0',\n",
       " 'connect 1 0 2 1',\n",
       " 'connect 3 0 0 0']"
      ]
     },
     "execution_count": 46,
     "metadata": {},
     "output_type": "execute_result"
    }
   ],
   "source": [
    "data"
   ]
  },
  {
   "cell_type": "code",
   "execution_count": 59,
   "metadata": {
    "ExecuteTime": {
     "end_time": "2020-09-30T15:35:32.992127Z",
     "start_time": "2020-09-30T15:35:32.982173Z"
    }
   },
   "outputs": [],
   "source": [
    "structure = {}\n",
    "obj = []\n",
    "connect = []\n",
    "\n",
    "for tag in tags:\n",
    "    for s in data:\n",
    "        if s.find(tag,0,8) != -1:\n",
    "            value = \" \".join(s.split(\" \")[1:])\n",
    "            if tag == 'obj':\n",
    "                obj.append(value)\n",
    "            elif tag == 'connect':\n",
    "                connect.append(value)\n",
    "            else:\n",
    "                structure[tag] = value\n",
    "    structure['obj'] = [x+' '+str(n) for n,x in enumerate(obj)]\n",
    "    structure['connect'] = connect"
   ]
  },
  {
   "cell_type": "code",
   "execution_count": 60,
   "metadata": {
    "ExecuteTime": {
     "end_time": "2020-09-30T15:35:34.138061Z",
     "start_time": "2020-09-30T15:35:34.132020Z"
    }
   },
   "outputs": [
    {
     "data": {
      "text/plain": [
       "{'canvas': '1837 346 591 300 10',\n",
       " 'obj': ['137 73 osc~ 440 0', '137 121 *~ 0.5 1', '137 178 dac~ 2'],\n",
       " 'connect': ['0 0 1 0', '1 0 2 0', '1 0 2 1', '3 0 0 0']}"
      ]
     },
     "execution_count": 60,
     "metadata": {},
     "output_type": "execute_result"
    }
   ],
   "source": [
    "structure"
   ]
  }
 ],
 "metadata": {
  "kernelspec": {
   "display_name": "Python 3",
   "language": "python",
   "name": "python3"
  },
  "language_info": {
   "codemirror_mode": {
    "name": "ipython",
    "version": 3
   },
   "file_extension": ".py",
   "mimetype": "text/x-python",
   "name": "python",
   "nbconvert_exporter": "python",
   "pygments_lexer": "ipython3",
   "version": "3.7.6"
  }
 },
 "nbformat": 4,
 "nbformat_minor": 4
}
