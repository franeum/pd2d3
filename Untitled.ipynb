{
 "cells": [
  {
   "cell_type": "code",
   "execution_count": null,
   "metadata": {},
   "outputs": [],
   "source": []
  },
  {
   "cell_type": "code",
   "execution_count": 8,
   "metadata": {
    "ExecuteTime": {
     "end_time": "2020-09-30T08:09:55.521037Z",
     "start_time": "2020-09-30T08:09:55.516393Z"
    }
   },
   "outputs": [],
   "source": [
    "file = '001.pd'"
   ]
  },
  {
   "cell_type": "code",
   "execution_count": 36,
   "metadata": {
    "ExecuteTime": {
     "end_time": "2020-09-30T08:19:28.772673Z",
     "start_time": "2020-09-30T08:19:28.768845Z"
    }
   },
   "outputs": [],
   "source": [
    "tags = ['canvas','obj','connect']"
   ]
  },
  {
   "cell_type": "code",
   "execution_count": 32,
   "metadata": {
    "ExecuteTime": {
     "end_time": "2020-09-30T08:16:24.406507Z",
     "start_time": "2020-09-30T08:16:24.401830Z"
    }
   },
   "outputs": [],
   "source": [
    "with open(file, 'r') as f:\n",
    "    data = f.read()"
   ]
  },
  {
   "cell_type": "code",
   "execution_count": 23,
   "metadata": {
    "ExecuteTime": {
     "end_time": "2020-09-30T08:12:31.176280Z",
     "start_time": "2020-09-30T08:12:31.170852Z"
    }
   },
   "outputs": [
    {
     "data": {
      "text/plain": [
       "'#N canvas 1837 346 591 300 10;\\n#X obj 137 73 osc~ 440;\\n#X obj 137 121 *~ 0.5;\\n#X obj 137 178 dac~;\\n#X msg 137 26 proviamo con la supercazzola prematurata con scappellamento\\na sinistra;\\n#X text 267 113 tastooma;\\n#X connect 0 0 1 0;\\n#X connect 1 0 2 0;\\n#X connect 1 0 2 1;\\n#X connect 3 0 0 0;\\n'"
      ]
     },
     "execution_count": 23,
     "metadata": {},
     "output_type": "execute_result"
    }
   ],
   "source": [
    "data"
   ]
  },
  {
   "cell_type": "code",
   "execution_count": 33,
   "metadata": {
    "ExecuteTime": {
     "end_time": "2020-09-30T08:16:25.455936Z",
     "start_time": "2020-09-30T08:16:25.449864Z"
    }
   },
   "outputs": [],
   "source": [
    "data = data.replace(\"\\n\",\" \")\n",
    "data = data.replace(\";\",\"\")\n",
    "data = [x.strip(None)[2:] for x in data.split(\"#\") if x != '']"
   ]
  },
  {
   "cell_type": "code",
   "execution_count": 46,
   "metadata": {
    "ExecuteTime": {
     "end_time": "2020-09-30T15:14:54.980047Z",
     "start_time": "2020-09-30T15:14:54.974360Z"
    }
   },
   "outputs": [
    {
     "data": {
      "text/plain": [
       "['canvas 1837 346 591 300 10',\n",
       " 'obj 137 73 osc~ 440',\n",
       " 'obj 137 121 *~ 0.5',\n",
       " 'obj 137 178 dac~',\n",
       " 'msg 137 26 proviamo con la supercazzola prematurata con scappellamento a sinistra',\n",
       " 'text 267 113 tastooma',\n",
       " 'connect 0 0 1 0',\n",
       " 'connect 1 0 2 0',\n",
       " 'connect 1 0 2 1',\n",
       " 'connect 3 0 0 0']"
      ]
     },
     "execution_count": 46,
     "metadata": {},
     "output_type": "execute_result"
    }
   ],
   "source": [
    "data"
   ]
  },
  {
   "cell_type": "code",
   "execution_count": 59,
   "metadata": {
    "ExecuteTime": {
     "end_time": "2020-09-30T15:35:32.992127Z",
     "start_time": "2020-09-30T15:35:32.982173Z"
    }
   },
   "outputs": [],
   "source": [
    "structure = {}\n",
    "obj = []\n",
    "connect = []\n",
    "\n",
    "for tag in tags:\n",
    "    for s in data:\n",
    "        if s.find(tag,0,8) != -1:\n",
    "            value = \" \".join(s.split(\" \")[1:])\n",
    "            if tag == 'obj':\n",
    "                obj.append(value)\n",
    "            elif tag == 'connect':\n",
    "                connect.append(value)\n",
    "            else:\n",
    "                structure[tag] = value\n",
    "    structure['obj'] = [x+' '+str(n) for n,x in enumerate(obj)]\n",
    "    structure['connect'] = connect"
   ]
  },
  {
   "cell_type": "code",
   "execution_count": 60,
   "metadata": {
    "ExecuteTime": {
     "end_time": "2020-09-30T15:35:34.138061Z",
     "start_time": "2020-09-30T15:35:34.132020Z"
    }
   },
   "outputs": [
    {
     "data": {
      "text/plain": [
       "{'canvas': '1837 346 591 300 10',\n",
       " 'obj': ['137 73 osc~ 440 0', '137 121 *~ 0.5 1', '137 178 dac~ 2'],\n",
       " 'connect': ['0 0 1 0', '1 0 2 0', '1 0 2 1', '3 0 0 0']}"
      ]
     },
     "execution_count": 60,
     "metadata": {},
     "output_type": "execute_result"
    }
   ],
   "source": [
    "structure"
   ]
  },
  {
   "cell_type": "code",
   "execution_count": null,
   "metadata": {},
   "outputs": [],
   "source": []
  },
  {
   "cell_type": "code",
   "execution_count": null,
   "metadata": {},
   "outputs": [],
   "source": []
  },
  {
   "cell_type": "code",
   "execution_count": 2,
   "metadata": {},
   "outputs": [
    {
     "name": "stdout",
     "output_type": "stream",
     "text": [
      "type='CANVAS', value='canvas'\n",
      "type='FLOAT', value='1837'\n",
      "type='FLOAT', value='346'\n",
      "type='FLOAT', value='591'\n",
      "type='FLOAT', value='300'\n",
      "type='FLOAT', value='10'\n",
      "type='END', value=';'\n",
      "type='OBJ', value='obj'\n",
      "type='FLOAT', value='137'\n",
      "type='FLOAT', value='73'\n",
      "type='LITERAL', value='osc~'\n",
      "type='FLOAT', value='440'\n",
      "type='END', value=';'\n",
      "type='OBJ', value='obj'\n",
      "type='FLOAT', value='137'\n",
      "type='FLOAT', value='121'\n",
      "type='LITERAL', value='*~'\n",
      "type='FLOAT', value='0.5'\n",
      "type='END', value=';'\n",
      "type='OBJ', value='obj'\n",
      "type='FLOAT', value='137'\n",
      "type='FLOAT', value='178'\n",
      "type='LITERAL', value='dac~'\n",
      "type='END', value=';'\n",
      "type='MSG', value='msg'\n",
      "type='FLOAT', value='137'\n",
      "type='FLOAT', value='26'\n",
      "type='LITERAL', value='proviamo'\n",
      "type='LITERAL', value='con'\n",
      "type='LITERAL', value='la'\n",
      "type='LITERAL', value='supercazzola'\n",
      "type='LITERAL', value='prematurata'\n",
      "type='LITERAL', value='con'\n",
      "type='LITERAL', value='scappellamento'\n",
      "type='LITERAL', value='a'\n",
      "type='LITERAL', value='sinistra'\n",
      "type='END', value=';'\n",
      "type='LITERAL', value='ext'\n",
      "type='FLOAT', value='267'\n",
      "type='FLOAT', value='113'\n",
      "type='LITERAL', value='astooma'\n",
      "type='END', value=';'\n",
      "type='CONNECT', value='connect'\n",
      "type='FLOAT', value='0'\n",
      "type='FLOAT', value='0'\n",
      "type='FLOAT', value='1'\n",
      "type='FLOAT', value='0'\n",
      "type='END', value=';'\n",
      "type='CONNECT', value='connect'\n",
      "type='FLOAT', value='1'\n",
      "type='FLOAT', value='0'\n",
      "type='FLOAT', value='2'\n",
      "type='FLOAT', value='0'\n",
      "type='END', value=';'\n",
      "type='CONNECT', value='connect'\n",
      "type='FLOAT', value='1'\n",
      "type='FLOAT', value='0'\n",
      "type='FLOAT', value='2'\n",
      "type='FLOAT', value='1'\n",
      "type='END', value=';'\n",
      "type='CONNECT', value='connect'\n",
      "type='FLOAT', value='3'\n",
      "type='FLOAT', value='0'\n",
      "type='FLOAT', value='0'\n",
      "type='FLOAT', value='0'\n",
      "type='END', value=';'\n"
     ]
    }
   ],
   "source": [
    "# calclex.py\n",
    "\n",
    "from sly import Lexer\n",
    "\n",
    "class CalcLexer(Lexer):\n",
    "    def __init__(self):\n",
    "        self.obj_counter = 0\n",
    "    \n",
    "    # Set of token names.   This is always required\n",
    "    tokens = { CANVAS, OBJ, TEXT, CONNECT, DECLARE, FLOATATOM, MSG, FLOAT, END, LITERAL }\n",
    "\n",
    "    # String containing ignored characters between tokens\n",
    "    ignore = r' \\t'\n",
    "    ignore_newline = r'\\s*\\n\\s*'\n",
    "    ignore_prefix = r'#[A-Z]'\n",
    "\n",
    "    # Regular expression rules for tokens\n",
    "    #PREFIX = r'#[A-Z]'\n",
    "    CANVAS = r'canvas'\n",
    "    OBJ = r'obj'\n",
    "    TEXT = r'text'\n",
    "    CONNECT = r'connect'\n",
    "    DECLARE = r'declare'\n",
    "    FLOATATOM = r'floatatom'\n",
    "    MSG = r'msg'\n",
    "    #ID      = r'[a-zA-Z_][a-zA-Z0-9_]*'\n",
    "    FLOAT = r'\\d+\\.*\\d*'\n",
    "    #NUMBER  = r'\\d+'\n",
    "    #END  = r';'\n",
    "    LITERAL = r'[a-zA-Z_*~\\(\\)]+'\n",
    "    \n",
    "    @_(r';')\n",
    "    def END(self, t):\n",
    "        self.lineno += len(t.value)\n",
    "        return t\n",
    "\n",
    "if __name__ == '__main__':\n",
    "    data = \"\"\"\n",
    "    #N canvas 1837 346 591 300 10;\n",
    "    #X obj 137 73 osc~ 440;\n",
    "    #X obj 137 121 *~ 0.5;\n",
    "    #X obj 137 178 dac~;\n",
    "    #X msg 137 26 proviamo con la supercazzola prematurata con scappellamento\n",
    "    a sinistra;\n",
    "    #X text 267 113 tastooma;\n",
    "    #X connect 0 0 1 0;\n",
    "    #X connect 1 0 2 0;\n",
    "    #X connect 1 0 2 1;\n",
    "    #X connect 3 0 0 0;\"\"\"\n",
    "    lexer = CalcLexer()\n",
    "    for tok in lexer.tokenize(data):\n",
    "        print('type=%r, value=%r' % (tok.type, tok.value))\n"
   ]
  },
  {
   "cell_type": "code",
   "execution_count": 206,
   "metadata": {},
   "outputs": [
    {
     "name": "stderr",
     "output_type": "stream",
     "text": [
      "WARNING: Token(s) {FLOATATOM,TEXT,MSG,DECLARE,CONNECT} defined, but not used\n",
      "WARNING: There are 5 unused tokens\n"
     ]
    }
   ],
   "source": [
    "from sly import Parser\n",
    "\n",
    "class CalcParser(Parser):\n",
    "    # Get the token list from the lexer (required)\n",
    "    tokens = CalcLexer.tokens\n",
    "    \"\"\"def __init__(self):\n",
    "        self.tastooma = Costrutto()\n",
    "        self.tastooma.args = []\"\"\"\n",
    "\n",
    "    # Grammar rules and actions\n",
    "    @_('CANVAS FLOAT FLOAT FLOAT FLOAT FLOAT END')\n",
    "    def expr(self, p):\n",
    "        #self.tastooma.addval(p[0],int(p[1]),int(p[2]))\n",
    "        return {\"typ\": p[0], \"x\":int(p[1]),\"y\":int(p[2])}\n",
    "    \n",
    "    @_('OBJ FLOAT FLOAT LITERAL END')\n",
    "    def expr(self, p):\n",
    "        #self.tastooma.addval(p[0],p[1],p[2],p[3])\n",
    "        return {\"typ\":p[0],\"x\":p[1],\"y\":p[2], \"name\":p[3]}\n",
    "    \n",
    "    @_('OBJ FLOAT FLOAT LITERAL expression END')\n",
    "    def expr(self, p):\n",
    "        #self.tastooma.addval(p[0],p[1],p[2],p[3])\n",
    "        return {\"typ\":p[0],\"x\":p[1],\"y\":p[2], \"name\":p[3]}, p.expression\n",
    "    \n",
    "    @_('FLOAT expression')\n",
    "    def expression(self, p):\n",
    "        #self.tastooma.args.append(p.FLOAT)\n",
    "        return [p.FLOAT, p.expression]\n",
    "\n",
    "    @_('FLOAT')\n",
    "    def expression(self, p):\n",
    "        #self.tastooma.args.append(p.FLOAT)\n",
    "        return p.FLOAT"
   ]
  },
  {
   "cell_type": "markdown",
   "metadata": {},
   "source": [
    "expr       : expr + term\n",
    "           | expr - term\n",
    "           | term"
   ]
  },
  {
   "cell_type": "code",
   "execution_count": 175,
   "metadata": {},
   "outputs": [],
   "source": [
    "class Costrutto(object):\n",
    "    def __init__(self):\n",
    "        pass\n",
    "        \n",
    "    def addval(self, ty, x, y, name=None):\n",
    "        self.type = ty\n",
    "        self.x = x\n",
    "        self.y = y\n",
    "        self.name = name"
   ]
  },
  {
   "cell_type": "code",
   "execution_count": 209,
   "metadata": {},
   "outputs": [
    {
     "name": "stdout",
     "output_type": "stream",
     "text": [
      "{'typ': 'canvas', 'x': 1837, 'y': 346}\n",
      "({'typ': 'obj', 'x': '137', 'y': '73', 'name': 'osc~'}, ['12', ['14', ['16', '14.3']]])\n"
     ]
    }
   ],
   "source": [
    "if __name__ == '__main__':\n",
    "    lexer = CalcLexer()\n",
    "    parser = CalcParser()\n",
    "\n",
    "    text = [\n",
    "        '#N canvas 1837 346 591 300 10;', \n",
    "        '#X obj 137 73 osc~ 12 14 16 14.3;'\n",
    "        #'#X obj 137 121 *~ 0.5;',\n",
    "       #'#X obj 137 178 dac~;'\n",
    "    ]\n",
    "    for te in text:\n",
    "        result = parser.parse(lexer.tokenize(te))\n",
    "        print(result)"
   ]
  },
  {
   "cell_type": "code",
   "execution_count": 210,
   "metadata": {},
   "outputs": [
    {
     "data": {
      "text/plain": [
       "({'typ': 'obj', 'x': '137', 'y': '73', 'name': 'osc~'},\n",
       " ['12', ['14', ['16', '14.3']]])"
      ]
     },
     "execution_count": 210,
     "metadata": {},
     "output_type": "execute_result"
    }
   ],
   "source": [
    "result"
   ]
  },
  {
   "cell_type": "code",
   "execution_count": 213,
   "metadata": {},
   "outputs": [
    {
     "ename": "NameError",
     "evalue": "name 'operator' is not defined",
     "output_type": "error",
     "traceback": [
      "\u001b[0;31m---------------------------------------------------------------------------\u001b[0m",
      "\u001b[0;31mNameError\u001b[0m                                 Traceback (most recent call last)",
      "\u001b[0;32m<ipython-input-213-c1012d6fe0ea>\u001b[0m in \u001b[0;36m<module>\u001b[0;34m\u001b[0m\n\u001b[1;32m      1\u001b[0m \u001b[0;32mimport\u001b[0m \u001b[0mfunctools\u001b[0m\u001b[0;34m\u001b[0m\u001b[0;34m\u001b[0m\u001b[0m\n\u001b[0;32m----> 2\u001b[0;31m \u001b[0mfunctools\u001b[0m\u001b[0;34m.\u001b[0m\u001b[0mreduce\u001b[0m\u001b[0;34m(\u001b[0m\u001b[0moperator\u001b[0m\u001b[0;34m.\u001b[0m\u001b[0miconcat\u001b[0m\u001b[0;34m,\u001b[0m \u001b[0mresult\u001b[0m\u001b[0;34m[\u001b[0m\u001b[0;36m1\u001b[0m\u001b[0;34m]\u001b[0m\u001b[0;34m,\u001b[0m \u001b[0;34m[\u001b[0m\u001b[0;34m]\u001b[0m\u001b[0;34m)\u001b[0m\u001b[0;34m\u001b[0m\u001b[0;34m\u001b[0m\u001b[0m\n\u001b[0m",
      "\u001b[0;31mNameError\u001b[0m: name 'operator' is not defined"
     ]
    }
   ],
   "source": [
    "import functools\n",
    "functools.reduce(operator.iconcat, result[1], [])\n"
   ]
  },
  {
   "cell_type": "code",
   "execution_count": 222,
   "metadata": {},
   "outputs": [],
   "source": [
    "res = []\n",
    "\n",
    "def flatter(lst, a):\n",
    "    for x in lst:\n",
    "        if not isinstance(x, list):\n",
    "            res.append(x)\n",
    "        else:\n",
    "            return flatter(x, res)"
   ]
  },
  {
   "cell_type": "code",
   "execution_count": 223,
   "metadata": {},
   "outputs": [],
   "source": [
    "flatter(result[1], res)"
   ]
  },
  {
   "cell_type": "code",
   "execution_count": 224,
   "metadata": {},
   "outputs": [
    {
     "data": {
      "text/plain": [
       "['12', '14', '16', '14.3']"
      ]
     },
     "execution_count": 224,
     "metadata": {},
     "output_type": "execute_result"
    }
   ],
   "source": [
    "res"
   ]
  },
  {
   "cell_type": "code",
   "execution_count": 215,
   "metadata": {},
   "outputs": [
    {
     "data": {
      "text/plain": [
       "['1', '2', '14', ['16', '14.3']]"
      ]
     },
     "execution_count": 215,
     "metadata": {},
     "output_type": "execute_result"
    }
   ],
   "source": [
    "forfor(result[1])"
   ]
  },
  {
   "cell_type": "code",
   "execution_count": 185,
   "metadata": {},
   "outputs": [
    {
     "data": {
      "text/plain": [
       "[Token(type='CANVAS', value='canvas', lineno=1, index=8),\n",
       " Token(type='FLOAT', value='1837', lineno=1, index=15),\n",
       " Token(type='FLOAT', value='346', lineno=1, index=20),\n",
       " Token(type='FLOAT', value='591', lineno=1, index=24),\n",
       " Token(type='FLOAT', value='300', lineno=1, index=28),\n",
       " Token(type='FLOAT', value='10', lineno=1, index=32),\n",
       " Token(type='END', value=';', lineno=1, index=34),\n",
       " Token(type='OBJ', value='obj', lineno=2, index=43),\n",
       " Token(type='FLOAT', value='137', lineno=2, index=47),\n",
       " Token(type='FLOAT', value='73', lineno=2, index=51),\n",
       " Token(type='LITERAL', value='osc~', lineno=2, index=54),\n",
       " Token(type='FLOAT', value='440', lineno=2, index=59),\n",
       " Token(type='END', value=';', lineno=2, index=62),\n",
       " Token(type='OBJ', value='obj', lineno=3, index=71),\n",
       " Token(type='FLOAT', value='137', lineno=3, index=75),\n",
       " Token(type='FLOAT', value='121', lineno=3, index=79),\n",
       " Token(type='LITERAL', value='*~', lineno=3, index=83),\n",
       " Token(type='FLOAT', value='0.5', lineno=3, index=86),\n",
       " Token(type='END', value=';', lineno=3, index=89),\n",
       " Token(type='OBJ', value='obj', lineno=4, index=98),\n",
       " Token(type='FLOAT', value='137', lineno=4, index=102),\n",
       " Token(type='FLOAT', value='178', lineno=4, index=106),\n",
       " Token(type='LITERAL', value='dac~', lineno=4, index=110),\n",
       " Token(type='END', value=';', lineno=4, index=114)]"
      ]
     },
     "execution_count": 185,
     "metadata": {},
     "output_type": "execute_result"
    }
   ],
   "source": [
    "list(lexer.tokenize(te))"
   ]
  },
  {
   "cell_type": "code",
   "execution_count": null,
   "metadata": {},
   "outputs": [],
   "source": []
  },
  {
   "cell_type": "code",
   "execution_count": 38,
   "metadata": {},
   "outputs": [
    {
     "name": "stdout",
     "output_type": "stream",
     "text": [
      "Help on method parse in module sly.yacc:\n",
      "\n",
      "parse(tokens) method of __main__.CalcParser instance\n",
      "    Parse the given input tokens.\n",
      "\n"
     ]
    }
   ],
   "source": [
    "help(parser.parse)"
   ]
  },
  {
   "cell_type": "code",
   "execution_count": null,
   "metadata": {},
   "outputs": [],
   "source": []
  },
  {
   "cell_type": "code",
   "execution_count": null,
   "metadata": {},
   "outputs": [],
   "source": []
  }
 ],
 "metadata": {
  "kernelspec": {
   "display_name": "Python 3",
   "language": "python",
   "name": "python3"
  },
  "language_info": {
   "codemirror_mode": {
    "name": "ipython",
    "version": 3
   },
   "file_extension": ".py",
   "mimetype": "text/x-python",
   "name": "python",
   "nbconvert_exporter": "python",
   "pygments_lexer": "ipython3",
   "version": "3.7.4"
  }
 },
 "nbformat": 4,
 "nbformat_minor": 4
}
